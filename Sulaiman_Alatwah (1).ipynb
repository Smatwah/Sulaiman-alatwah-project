{
  "nbformat": 4,
  "nbformat_minor": 0,
  "metadata": {
    "colab": {
      "provenance": [],
      "gpuType": "T4"
    },
    "kernelspec": {
      "name": "python3",
      "display_name": "Python 3"
    },
    "language_info": {
      "name": "python"
    },
    "accelerator": "GPU"
  },
  "cells": [
    {
      "cell_type": "markdown",
      "source": [
        "NYC Property Sales"
      ],
      "metadata": {
        "id": "Tclyynr6jHTH"
      }
    },
    {
      "cell_type": "markdown",
      "source": [
        "Confirmed by Omar"
      ],
      "metadata": {
        "id": "lp5Kp-Afltjz"
      }
    },
    {
      "cell_type": "markdown",
      "source": [
        "This project aims to predict property sale prices in New York City using machine learning models. The dataset contains over 5 million real estate transactions with features like location, building type, square footage, and year built — ideal for GPU-accelerated regression."
      ],
      "metadata": {
        "id": "CJ-a2qWEeSet"
      }
    },
    {
      "cell_type": "markdown",
      "source": [
        "Rows (Records): Over 5 million\n",
        "\n",
        "Columns (Features): Around 20 column"
      ],
      "metadata": {
        "id": "08gQo5rjjN_T"
      }
    },
    {
      "cell_type": "code",
      "source": [
        "import cudf\n",
        "import cuml\n",
        "import cupy as cp\n",
        "import matplotlib.pyplot as plt\n",
        "import seaborn as sns\n",
        "import time\n",
        "\n",
        "from cuml.linear_model import LogisticRegression as cuLogisticRegression\n",
        "from cuml.ensemble import RandomForestClassifier as cuRandomForestClassifier\n",
        "from cuml.metrics import accuracy_score as cu_accuracy_score\n",
        "from cuml.model_selection import train_test_split\n"
      ],
      "metadata": {
        "id": "GyrwnKemw3-x"
      },
      "execution_count": 10,
      "outputs": []
    },
    {
      "cell_type": "code",
      "source": [
        "df = cudf.read_csv('/content/nyc-rolling-sales.csv')\n",
        "df.columns = df.columns.str.strip().str.lower().str.replace(' ', '_')\n"
      ],
      "metadata": {
        "id": "_a97c2GTzOyC"
      },
      "execution_count": 11,
      "outputs": []
    },
    {
      "cell_type": "code",
      "source": [
        "for col in ['sale_price', 'land_square_feet', 'gross_square_feet']:\n",
        "    df[col] = df[col].astype('str').str.replace('-', '').str.strip()\n",
        "    df[col] = df[col].fillna('0').replace('', '0').astype('float32')\n",
        "\n",
        "df['year_built'] = df['year_built'].fillna(0).astype('float32')\n",
        "df['lot'] = df['lot'].fillna(0).astype('float32')\n",
        "df['block'] = df['block'].fillna(0).astype('float32')\n",
        "\n",
        "df = df[df['sale_price'] > 10000]\n",
        "df = df.dropna()"
      ],
      "metadata": {
        "id": "kQ1w5320njWH"
      },
      "execution_count": 12,
      "outputs": []
    },
    {
      "cell_type": "code",
      "source": [
        "threshold = df['sale_price'].quantile(0.5)\n",
        "df['high_value'] = (df['sale_price'] > threshold).astype('int32')\n",
        "\n",
        "df['borough'] = df['borough'].astype('category').cat.codes\n",
        "df['building_class_category'] = df['building_class_category'].astype('category').cat.codes\n",
        "df['tax_class_at_time_of_sale'] = df['tax_class_at_time_of_sale'].astype('category').cat.codes\n",
        "\n",
        "features = [\n",
        "    'borough', 'lot', 'block', 'year_built',\n",
        "    'tax_class_at_time_of_sale', 'building_class_category',\n",
        "    'land_square_feet', 'gross_square_feet'\n",
        "]\n",
        "target = 'high_value'\n",
        "\n",
        "X = df[features].astype('float32')\n",
        "y = df[target].astype('int32')\n"
      ],
      "metadata": {
        "id": "EwTCZqRfn8bY"
      },
      "execution_count": 13,
      "outputs": []
    },
    {
      "cell_type": "code",
      "source": [
        "X_train, X_test, y_train, y_test = train_test_split(X, y, test_size=0.2, random_state=42)"
      ],
      "metadata": {
        "id": "fWEy0eoxvGRj"
      },
      "execution_count": 14,
      "outputs": []
    },
    {
      "cell_type": "code",
      "source": [
        "start = time.time()\n",
        "\n",
        "lr = cuLogisticRegression()\n",
        "lr.fit(X_train, y_train)\n",
        "\n",
        "lr_preds = lr.predict(X_test)\n",
        "lr_acc = cu_accuracy_score(y_test, lr_preds)\n",
        "\n",
        "elapsed = time.time() - start\n",
        "\n",
        "print(f\"✅ cuML Logistic Regression Accuracy: {float(lr_acc):.4f}\")\n",
        "print(f\"⏱️ Training Time: {elapsed:.2f} seconds\")\n"
      ],
      "metadata": {
        "colab": {
          "base_uri": "https://localhost:8080/"
        },
        "id": "Ha0j0hgDo-Ab",
        "outputId": "a29a4fc2-647a-44d7-dd68-fe1d0a4b0363"
      },
      "execution_count": 15,
      "outputs": [
        {
          "output_type": "stream",
          "name": "stdout",
          "text": [
            "✅ cuML Logistic Regression Accuracy: 0.6571\n",
            "⏱️ Training Time: 3.68 seconds\n"
          ]
        }
      ]
    },
    {
      "cell_type": "code",
      "source": [
        "start = time.time()\n",
        "\n",
        "rf = cuRandomForestClassifier(n_estimators=100, max_depth=10)\n",
        "rf.fit(X_train, y_train)\n",
        "\n",
        "rf_preds = rf.predict(X_test)\n",
        "rf_acc = cu_accuracy_score(y_test, rf_preds)\n",
        "\n",
        "elapsed = time.time() - start\n",
        "\n",
        "print(f\"✅ cuML Random Forest Accuracy: {float(rf_acc):.4f}\")\n",
        "print(f\"⏱️ Training Time: {elapsed:.2f} seconds\")\n"
      ],
      "metadata": {
        "id": "YWNvNRmExJHs",
        "colab": {
          "base_uri": "https://localhost:8080/"
        },
        "outputId": "58a1e81f-e451-4e77-d238-c209ac1e30c8"
      },
      "execution_count": 18,
      "outputs": [
        {
          "output_type": "stream",
          "name": "stdout",
          "text": [
            "✅ cuML Random Forest Accuracy: 0.8114\n",
            "⏱️ Training Time: 0.47 seconds\n"
          ]
        }
      ]
    },
    {
      "cell_type": "code",
      "source": [
        "import pandas as pd  # for plotting only\n",
        "\n",
        "# Convert to pandas for visualization\n",
        "accuracy_df = pd.DataFrame(list(results.items()), columns=[\"Model\", \"Accuracy\"])\n",
        "time_df = pd.DataFrame(list(times.items()), columns=[\"Model\", \"Training Time (s)\"])\n",
        "\n",
        "# Accuracy Chart\n",
        "plt.figure(figsize=(8, 4))\n",
        "sns.barplot(x=\"Model\", y=\"Accuracy\", data=accuracy_df)\n",
        "plt.title(\"cuML Model Accuracy Comparison\")\n",
        "plt.ylabel(\"Accuracy\")\n",
        "plt.xticks(rotation=15)\n",
        "plt.show()\n",
        "\n",
        "# Training Time Chart\n",
        "plt.figure(figsize=(8, 4))\n",
        "sns.barplot(x=\"Model\", y=\"Training Time (s)\", data=time_df)\n",
        "plt.title(\"cuML Model Training Time (GPU)\")\n",
        "plt.ylabel(\"Time (seconds)\")\n",
        "plt.xticks(rotation=15)\n",
        "plt.show()\n",
        "\n"
      ],
      "metadata": {
        "id": "Um9uXdMNyFy9",
        "colab": {
          "base_uri": "https://localhost:8080/",
          "height": 877
        },
        "outputId": "8b642e6a-f173-4e1b-eb5d-e2d44f8a2344"
      },
      "execution_count": 20,
      "outputs": [
        {
          "output_type": "display_data",
          "data": {
            "text/plain": [
              "<Figure size 800x400 with 1 Axes>"
            ],
            "image/png": "[encoded data removed]"
          },
          "metadata": {}
        },
        {
          "output_type": "display_data",
          "data": {
            "text/plain": [
              "<Figure size 800x400 with 1 Axes>"
            ],
            "image/png": "[encoded data removed]"
          },
          "metadata": {}
        }
      ]
    },
    {
      "cell_type": "code",
      "source": [
        "start = time.time()\n",
        "xgb_model = xgb.XGBRegressor(n_estimators=100, max_depth=6, tree_method='auto')\n",
        "xgb_model.fit(X_train, y_train)\n",
        "xgb_preds = xgb_model.predict(X_test)\n",
        "xgb_mse = mean_squared_error(y_test, xgb_preds)\n",
        "xgb_time = time.time() - start\n"
      ],
      "metadata": {
        "id": "n3d2DBmNxMXh"
      },
      "execution_count": null,
      "outputs": []
    },
    {
      "cell_type": "code",
      "source": [
        "results = {\n",
        "    'Linear Regression': lr_mse,\n",
        "    'Random Forest': rf_mse,\n",
        "    'XGBoost': xgb_mse\n",
        "}\n",
        "\n",
        "plt.figure(figsize=(8, 4))\n",
        "sns.barplot(x=list(results.keys()), y=list(results.values()))\n",
        "plt.title(\"Model Comparison – Mean Squared Error\")\n",
        "plt.ylabel(\"MSE\")\n",
        "plt.show()\n"
      ],
      "metadata": {
        "id": "wuhSv8VXxRsq"
      },
      "execution_count": null,
      "outputs": []
    },
    {
      "cell_type": "code",
      "source": [
        "times = {\n",
        "    'Linear Regression': lr_time,\n",
        "    'Random Forest': rf_time,\n",
        "    'XGBoost': xgb_time\n",
        "}\n",
        "\n",
        "print(\"⏱️ Training Time (seconds) for each model:\")\n",
        "for model, t in times.items():\n",
        "    print(f\"{model}: {t:.4f} seconds\")\n",
        "\n",
        "plt.figure(figsize=(8, 4))\n",
        "sns.barplot(x=list(times.keys()), y=list(times.values()))\n",
        "plt.title(\"Model Comparison – Training Time\")\n",
        "plt.ylabel(\"Seconds\")\n",
        "plt.show()\n"
      ],
      "metadata": {
        "id": "UanppJQbxWTr"
      },
      "execution_count": null,
      "outputs": []
    },
    {
      "cell_type": "code",
      "source": [
        "!pip install joblib\n"
      ],
      "metadata": {
        "colab": {
          "base_uri": "https://localhost:8080/"
        },
        "id": "7ErmMuPipYsZ",
        "outputId": "cbcf022e-edae-4931-e357-ce46511893c9"
      },
      "execution_count": 23,
      "outputs": [
        {
          "output_type": "stream",
          "name": "stdout",
          "text": [
            "Requirement already satisfied: joblib in /usr/local/lib/python3.11/dist-packages (1.4.2)\n"
          ]
        }
      ]
    },
    {
      "cell_type": "code",
      "source": [
        "X_cpu = X.to_pandas()\n",
        "y_cpu = y.to_pandas()\n",
        "\n"
      ],
      "metadata": {
        "id": "UpW_9ssdppBb"
      },
      "execution_count": 26,
      "outputs": []
    },
    {
      "cell_type": "code",
      "source": [
        "from sklearn.preprocessing import StandardScaler\n",
        "from sklearn.ensemble import RandomForestClassifier\n",
        "import joblib\n",
        "import time\n",
        "\n",
        "# Scale features\n",
        "scaler = StandardScaler()\n",
        "X_scaled = scaler.fit_transform(X_cpu)\n",
        "\n",
        "# Train model\n",
        "start = time.time()\n",
        "model = RandomForestClassifier(n_estimators=100, max_depth=10)\n",
        "model.fit(X_scaled, y_cpu)\n",
        "elapsed = time.time() - start\n",
        "\n",
        "# Save model and scaler\n",
        "joblib.dump(model, 'model.joblib')\n",
        "joblib.dump(scaler, 'scaler.joblib')\n",
        "\n",
        "print(f\"✅ Model trained and saved\")\n",
        "print(f\"⏱️ Training Time: {elapsed:.2f} seconds\")\n"
      ],
      "metadata": {
        "colab": {
          "base_uri": "https://localhost:8080/"
        },
        "id": "bkG7E5vnqHhE",
        "outputId": "4b7265fa-e597-4974-ef02-6dc13ef0c843"
      },
      "execution_count": 27,
      "outputs": [
        {
          "output_type": "stream",
          "name": "stdout",
          "text": [
            "✅ Model trained and saved\n",
            "⏱️ Training Time: 4.18 seconds\n"
          ]
        }
      ]
    }
  ]
}