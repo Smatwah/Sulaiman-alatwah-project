{
  "nbformat": 4,
  "nbformat_minor": 0,
  "metadata": {
    "colab": {
      "provenance": [],
      "gpuType": "T4"
    },
    "kernelspec": {
      "name": "python3",
      "display_name": "Python 3"
    },
    "language_info": {
      "name": "python"
    },
    "accelerator": "GPU"
  },
  "cells": [
    {
      "cell_type": "code",
      "source": [
        "!pip install joblib\n"
      ],
      "metadata": {
        "colab": {
          "base_uri": "https://localhost:8080/"
        },
        "id": "7ErmMuPipYsZ",
        "outputId": "cbcf022e-edae-4931-e357-ce46511893c9"
      },
      "execution_count": null,
      "outputs": [
        {
          "output_type": "stream",
          "name": "stdout",
          "text": [
            "Requirement already satisfied: joblib in /usr/local/lib/python3.11/dist-packages (1.4.2)\n"
          ]
        }
      ]
    },
    {
      "cell_type": "code",
      "source": [
        "X_cpu = X.to_pandas()\n",
        "y_cpu = y.to_pandas()\n",
        "\n"
      ],
      "metadata": {
        "id": "UpW_9ssdppBb"
      },
      "execution_count": null,
      "outputs": []
    },
    {
      "cell_type": "code",
      "source": [
        "from sklearn.preprocessing import StandardScaler\n",
        "from sklearn.ensemble import RandomForestClassifier\n",
        "import joblib\n",
        "import time\n",
        "\n",
        "# Scale features\n",
        "scaler = StandardScaler()\n",
        "X_scaled = scaler.fit_transform(X_cpu)\n",
        "\n",
        "# Train model\n",
        "start = time.time()\n",
        "model = RandomForestClassifier(n_estimators=100, max_depth=10)\n",
        "model.fit(X_scaled, y_cpu)\n",
        "elapsed = time.time() - start\n",
        "\n",
        "# Save model and scaler\n",
        "joblib.dump(model, 'model.joblib')\n",
        "joblib.dump(scaler, 'scaler.joblib')\n",
        "\n",
        "print(f\"✅ Model trained and saved\")\n",
        "print(f\"⏱️ Training Time: {elapsed:.2f} seconds\")\n"
      ],
      "metadata": {
        "colab": {
          "base_uri": "https://localhost:8080/"
        },
        "id": "bkG7E5vnqHhE",
        "outputId": "4b7265fa-e597-4974-ef02-6dc13ef0c843"
      },
      "execution_count": null,
      "outputs": [
        {
          "output_type": "stream",
          "name": "stdout",
          "text": [
            "✅ Model trained and saved\n",
            "⏱️ Training Time: 4.18 seconds\n"
          ]
        }
      ]
    }
  ]
}